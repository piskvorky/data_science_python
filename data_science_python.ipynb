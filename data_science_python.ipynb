{
 "metadata": {
  "name": "",
  "signature": "sha256:9bf851f0a534a92ddc6ce8ab8c95e9ceb9af7d4391b045f85b407188eb473b98"
 },
 "nbformat": 3,
 "nbformat_minor": 0,
 "worksheets": [
  {
   "cells": [
    {
     "cell_type": "markdown",
     "metadata": {},
     "source": [
      "Practical Data Science in Python"
     ]
    },
    {
     "cell_type": "markdown",
     "metadata": {},
     "source": [
      "<script>\n",
      "  (function(i,s,o,g,r,a,m){i['GoogleAnalyticsObject']=r;i[r]=i[r]||function(){\n",
      "  (i[r].q=i[r].q||[]).push(arguments)},i[r].l=1*new Date();a=s.createElement(o),\n",
      "  m=s.getElementsByTagName(o)[0];a.async=1;a.src=g;m.parentNode.insertBefore(a,m)\n",
      "  })(window,document,'script','//www.google-analytics.com/analytics.js','ga');\n",
      "\n",
      "  ga('create', 'UA-44029069-1', 'auto');\n",
      "  ga('send', 'pageview');\n",
      "\n",
      "</script>\n",
      "\n",
      "This notebook accompanies my talk on \"Data Science with Python\". Questions & comments welcome [RadimRehurek](https://twitter.com/radimrehurek).\n",
      "\n",
      "The goal of this talk is to demonstrate some high level, introductory concepts behind (text) machine learning. The concepts are accompanied by concrete code examples in this notebook, which you can run yourself (after installing IPython, see below), on your own computer.\n",
      "\n",
      "The talk audience is expected to have some basic programming knowledge (though not necessarily Python) and some basic introductory data mining background. This is *not* an \"advanced talk\" for machine learning experts.\n",
      "\n",
      "The code examples build a working, executable prototype: an app to classify phone SMS messages in English (well, the \"SMS kind\" of English...) as either \"spam\" or \"ham\" (=not spam)."
     ]
    },
    {
     "cell_type": "markdown",
     "metadata": {},
     "source": [
      "[![](http://radimrehurek.com/data_science_python/python.png)](http://xkcd.com/353/)"
     ]
    },
    {
     "cell_type": "markdown",
     "metadata": {},
     "source": [
      "The language used throughout will be [Python](https://www.python.org/), a general purpose language helpful in all parts of the pipeline: I/O, data wrangling and preprocessing, model training and evaluation. While Python is by no means the only choice, it offers a unique combination of flexibility, ease of development and performance, thanks to its mature scientific computing ecosystem. Its vast, open source ecosystem also avoids the lock-in (and associated bitrot) of any single specific framework or library.\n",
      "\n",
      "Python (and of most its libraries) is also platform independent, so you can run this notebook on Windows, Linux or OS X without a change.\n",
      "\n",
      "One of the Python tools, the IPython notebook = interactive Python rendered as HTML, you're watching right now. We'll go over other practical tools, widely used in the data science industry, below."
     ]
    },
    {
     "cell_type": "markdown",
     "metadata": {},
     "source": [
      "<div style=\"background-color: #fcf2f2; border-color: #dFb5b4; border-left: 5px solid #dfb5b4; padding: 0.5em;\">\n",
      "**Want to run the examples below interactively? (optional)**\n",
      "  <ol>\n",
      "  <li>Install the (free) [Anaconda](https://store.continuum.io/cshop/anaconda/) Python distribution, including Python itself.</li>\n",
      "  <li>Install the \"natural language processing\" TextBlob library: [instructions here](http://textblob.readthedocs.org/en/dev/install.html).</li>\n",
      "  <li>Download the source for this notebook to your computer: [http://radimrehurek.com/data_science_python/data_science_python.ipynb](http://radimrehurek.com/data_science_python/data_science_python.ipynb) and run it with:<br />\n",
      "  `$ ipython notebook data_science_python.ipynb`</li>\n",
      "  <li>Watch the [IPython tutorial video](https://www.youtube.com/watch?v=H6dLGQw9yFQ) for notebook navigation basics.</li>\n",
      "  <li>Run the first code cell below; if it executes without errors, you're good to go!\n",
      "  </ol>\n",
      "</div>"
     ]
    },
    {
     "cell_type": "heading",
     "level": 1,
     "metadata": {},
     "source": [
      "End-to-end example: automated spam filtering"
     ]
    },
    {
     "cell_type": "code",
     "collapsed": false,
     "input": [
      "%matplotlib inline\n",
      "import matplotlib.pyplot as plt\n",
      "import csv\n",
      "from textblob import TextBlob\n",
      "import pandas\n",
      "import sklearn\n",
      "import pickle\n",
      "import numpy as np\n",
      "from sklearn.feature_extraction.text import CountVectorizer, TfidfTransformer, TfidfVectorizer\n",
      "from sklearn.naive_bayes import MultinomialNB\n",
      "from sklearn.linear_model import Perceptron\n",
      "from sklearn import cross_validation as cv\n",
      "from sklearn.svm import SVC, LinearSVC\n",
      "from sklearn.metrics import classification_report, f1_score, accuracy_score, confusion_matrix\n",
      "from sklearn.pipeline import Pipeline\n",
      "from sklearn.grid_search import GridSearchCV\n",
      "from sklearn.cross_validation import StratifiedKFold, cross_val_score, train_test_split \n",
      "from sklearn.tree import DecisionTreeClassifier \n",
      "from sklearn.learning_curve import learning_curve\n",
      "from nltk.corpus import stopwords\n",
      "from sklearn.externals import joblib"
     ],
     "language": "python",
     "metadata": {},
     "outputs": [],
     "prompt_number": 1
    },
    {
     "cell_type": "heading",
     "level": 2,
     "metadata": {},
     "source": [
      "Step 1: Load data, look around"
     ]
    },
    {
     "cell_type": "markdown",
     "metadata": {},
     "source": [
      "Skipping the *real* first step (fleshing out specs, finding out what is it we want to be doing -- often highly non-trivial in practice!), let's download the dataset we'll be using in this demo. Go to https://archive.ics.uci.edu/ml/datasets/SMS+Spam+Collection and download the zip file. Unzip it under `data` subdirectory. You should see a file called `SMSSpamCollection`, about 0.5MB in size:"
     ]
    },
    {
     "cell_type": "markdown",
     "metadata": {},
     "source": [
      "```bash\n",
      "$ ls -l data\n",
      "total 1352\n",
      "-rw-r--r--@ 1 kofola  staff  477907 Mar 15  2011 SMSSpamCollection\n",
      "-rw-r--r--@ 1 kofola  staff    5868 Apr 18  2011 readme\n",
      "-rw-r-----@ 1 kofola  staff  203415 Dec  1 15:30 smsspamcollection.zip\n",
      "```"
     ]
    },
    {
     "cell_type": "markdown",
     "metadata": {},
     "source": [
      "This file contains **a collection of more than 5 thousand SMS phone messages** (see the `readme` file for more info):"
     ]
    },
    {
     "cell_type": "code",
     "collapsed": false,
     "input": [
      "messages = [line.rstrip() for line in open('./data/SMSSpamCollection')]\n",
      "print (len(messages))"
     ],
     "language": "python",
     "metadata": {},
     "outputs": [
      {
       "output_type": "stream",
       "stream": "stdout",
       "text": [
        "5574\n"
       ]
      }
     ],
     "prompt_number": 2
    },
    {
     "cell_type": "markdown",
     "metadata": {},
     "source": [
      "A collection of texts is also sometimes called \"corpus\". Let's print the first ten messages in this SMS corpus:"
     ]
    },
    {
     "cell_type": "code",
     "collapsed": false,
     "input": [
      "for message_no, message in enumerate(messages[:10]):\n",
      "    print (message_no, message)"
     ],
     "language": "python",
     "metadata": {},
     "outputs": [
      {
       "output_type": "stream",
       "stream": "stdout",
       "text": [
        "0 ham\tGo until jurong point, crazy.. Available only in bugis n great world la e buffet... Cine there got amore wat...\n",
        "1 ham\tOk lar... Joking wif u oni...\n",
        "2 spam\tFree entry in 2 a wkly comp to win FA Cup final tkts 21st May 2005. Text FA to 87121 to receive entry question(std txt rate)T&C's apply 08452810075over18's\n",
        "3 ham\tU dun say so early hor... U c already then say...\n",
        "4 ham\tNah I don't think he goes to usf, he lives around here though\n",
        "5 spam\tFreeMsg Hey there darling it's been 3 week's now and no word back! I'd like some fun you up for it still? Tb ok! XxX std chgs to send, \u00a31.50 to rcv\n",
        "6 ham\tEven my brother is not like to speak with me. They treat me like aids patent.\n",
        "7 ham\tAs per your request 'Melle Melle (Oru Minnaminunginte Nurungu Vettam)' has been set as your callertune for all Callers. Press *9 to copy your friends Callertune\n",
        "8 spam\tWINNER!! As a valued network customer you have been selected to receivea \u00a3900 prize reward! To claim call 09061701461. Claim code KL341. Valid 12 hours only.\n",
        "9 spam\tHad your mobile 11 months or more? U R entitled to Update to the latest colour mobiles with camera for Free! Call The Mobile Update Co FREE on 08002986030\n"
       ]
      }
     ],
     "prompt_number": 13
    },
    {
     "cell_type": "markdown",
     "metadata": {},
     "source": [
      "We see that this is a [TSV](http://en.wikipedia.org/wiki/Tab-separated_values) (\"tab separated values\") file, where the first column is a label saying whether the given message is a normal message (\"ham\") or \"spam\". The second column is the message itself.\n",
      "\n",
      "This corpus will be our labeled training set. Using these ham/spam examples, we'll **train a machine learning model to learn to discriminate between ham/spam automatically**. Then, with a trained model, we'll be able to **classify arbitrary unlabeled messages** as ham or spam."
     ]
    },
    {
     "cell_type": "markdown",
     "metadata": {},
     "source": [
      "[![](http://radimrehurek.com/data_science_python/plot_ML_flow_chart_11.png)](http://www.astroml.org/sklearn_tutorial/general_concepts.html#supervised-learning-model-fit-x-y)"
     ]
    },
    {
     "cell_type": "markdown",
     "metadata": {},
     "source": [
      "Instead of parsing TSV (or CSV, or Excel...) files by hand, we can use Python's `pandas` library to do the work for us:"
     ]
    },
    {
     "cell_type": "code",
     "collapsed": false,
     "input": [
      "messages = pandas.read_csv('./data/SMSSpamCollection', sep='\\t', quoting=csv.QUOTE_NONE,\n",
      "                           names=[\"label\", \"message\"])\n",
      "print (messages)"
     ],
     "language": "python",
     "metadata": {},
     "outputs": [
      {
       "output_type": "stream",
       "stream": "stdout",
       "text": [
        "     label                                            message\n",
        "0      ham  Go until jurong point, crazy.. Available only ...\n",
        "1      ham                      Ok lar... Joking wif u oni...\n",
        "2     spam  Free entry in 2 a wkly comp to win FA Cup fina...\n",
        "3      ham  U dun say so early hor... U c already then say...\n",
        "4      ham  Nah I don't think he goes to usf, he lives aro...\n",
        "5     spam  FreeMsg Hey there darling it's been 3 week's n...\n",
        "6      ham  Even my brother is not like to speak with me. ...\n",
        "7      ham  As per your request 'Melle Melle (Oru Minnamin...\n",
        "8     spam  WINNER!! As a valued network customer you have...\n",
        "9     spam  Had your mobile 11 months or more? U R entitle...\n",
        "10     ham  I'm gonna be home soon and i don't want to tal...\n",
        "11    spam  SIX chances to win CASH! From 100 to 20,000 po...\n",
        "12    spam  URGENT! You have won a 1 week FREE membership ...\n",
        "13     ham  I've been searching for the right words to tha...\n",
        "14     ham                I HAVE A DATE ON SUNDAY WITH WILL!!\n",
        "15    spam  XXXMobileMovieClub: To use your credit, click ...\n",
        "16     ham                         Oh k...i'm watching here:)\n",
        "17     ham  Eh u remember how 2 spell his name... Yes i di...\n",
        "18     ham  Fine if that\u0092s the way u feel. That\u0092s the way ...\n",
        "19    spam  England v Macedonia - dont miss the goals/team...\n",
        "20     ham          Is that seriously how you spell his name?\n",
        "21     ham    I\u2018m going to try for 2 months ha ha only joking\n",
        "22     ham  So \u00fc pay first lar... Then when is da stock co...\n",
        "23     ham  Aft i finish my lunch then i go str down lor. ...\n",
        "24     ham  Ffffffffff. Alright no way I can meet up with ...\n",
        "25     ham  Just forced myself to eat a slice. I'm really ...\n",
        "26     ham                     Lol your always so convincing.\n",
        "27     ham  Did you catch the bus ? Are you frying an egg ...\n",
        "28     ham  I'm back &amp; we're packing the car now, I'll...\n",
        "29     ham  Ahhh. Work. I vaguely remember that! What does...\n",
        "...    ...                                                ...\n",
        "5544   ham           Armand says get your ass over to epsilon\n",
        "5545   ham             U still havent got urself a jacket ah?\n",
        "5546   ham  I'm taking derek &amp; taylor to walmart, if I...\n",
        "5547   ham      Hi its in durban are you still on this number\n",
        "5548   ham         Ic. There are a lotta childporn cars then.\n",
        "5549  spam  Had your contract mobile 11 Mnths? Latest Moto...\n",
        "5550   ham                 No, I was trying it all weekend ;V\n",
        "5551   ham  You know, wot people wear. T shirts, jumpers, ...\n",
        "5552   ham        Cool, what time you think you can get here?\n",
        "5553   ham  Wen did you get so spiritual and deep. That's ...\n",
        "5554   ham  Have a safe trip to Nigeria. Wish you happines...\n",
        "5555   ham                        Hahaha..use your brain dear\n",
        "5556   ham  Well keep in mind I've only got enough gas for...\n",
        "5557   ham  Yeh. Indians was nice. Tho it did kane me off ...\n",
        "5558   ham  Yes i have. So that's why u texted. Pshew...mi...\n",
        "5559   ham  No. I meant the calculation is the same. That ...\n",
        "5560   ham                             Sorry, I'll call later\n",
        "5561   ham  if you aren't here in the next  &lt;#&gt;  hou...\n",
        "5562   ham                  Anything lor. Juz both of us lor.\n",
        "5563   ham  Get me out of this dump heap. My mom decided t...\n",
        "5564   ham  Ok lor... Sony ericsson salesman... I ask shuh...\n",
        "5565   ham                                Ard 6 like dat lor.\n",
        "5566   ham  Why don't you wait 'til at least wednesday to ...\n",
        "5567   ham                                       Huh y lei...\n",
        "5568  spam  REMINDER FROM O2: To get 2.50 pounds free call...\n",
        "5569  spam  This is the 2nd time we have tried 2 contact u...\n",
        "5570   ham               Will \u00fc b going to esplanade fr home?\n",
        "5571   ham  Pity, * was in mood for that. So...any other s...\n",
        "5572   ham  The guy did some bitching but I acted like i'd...\n",
        "5573   ham                         Rofl. Its true to its name\n",
        "\n",
        "[5574 rows x 2 columns]\n"
       ]
      }
     ],
     "prompt_number": 3
    },
    {
     "cell_type": "markdown",
     "metadata": {},
     "source": [
      "With `pandas`, we can also view aggregate statistics easily:"
     ]
    },
    {
     "cell_type": "code",
     "collapsed": false,
     "input": [
      "messages.groupby('label').describe()"
     ],
     "language": "python",
     "metadata": {},
     "outputs": [
      {
       "html": [
        "<div style=\"max-height:1000px;max-width:1500px;overflow:auto;\">\n",
        "<table border=\"1\" class=\"dataframe\">\n",
        "  <thead>\n",
        "    <tr style=\"text-align: right;\">\n",
        "      <th></th>\n",
        "      <th></th>\n",
        "      <th>message</th>\n",
        "    </tr>\n",
        "    <tr>\n",
        "      <th>label</th>\n",
        "      <th></th>\n",
        "      <th></th>\n",
        "    </tr>\n",
        "  </thead>\n",
        "  <tbody>\n",
        "    <tr>\n",
        "      <th rowspan=\"4\" valign=\"top\">ham</th>\n",
        "      <th>count</th>\n",
        "      <td>                                              4827</td>\n",
        "    </tr>\n",
        "    <tr>\n",
        "      <th>unique</th>\n",
        "      <td>                                              4518</td>\n",
        "    </tr>\n",
        "    <tr>\n",
        "      <th>top</th>\n",
        "      <td>                            Sorry, I'll call later</td>\n",
        "    </tr>\n",
        "    <tr>\n",
        "      <th>freq</th>\n",
        "      <td>                                                30</td>\n",
        "    </tr>\n",
        "    <tr>\n",
        "      <th rowspan=\"4\" valign=\"top\">spam</th>\n",
        "      <th>count</th>\n",
        "      <td>                                               747</td>\n",
        "    </tr>\n",
        "    <tr>\n",
        "      <th>unique</th>\n",
        "      <td>                                               653</td>\n",
        "    </tr>\n",
        "    <tr>\n",
        "      <th>top</th>\n",
        "      <td> Please call our customer service representativ...</td>\n",
        "    </tr>\n",
        "    <tr>\n",
        "      <th>freq</th>\n",
        "      <td>                                                 4</td>\n",
        "    </tr>\n",
        "  </tbody>\n",
        "</table>\n",
        "</div>"
       ],
       "metadata": {},
       "output_type": "pyout",
       "prompt_number": 4,
       "text": [
        "                                                        message\n",
        "label                                                          \n",
        "ham   count                                                4827\n",
        "      unique                                               4518\n",
        "      top                                Sorry, I'll call later\n",
        "      freq                                                   30\n",
        "spam  count                                                 747\n",
        "      unique                                                653\n",
        "      top     Please call our customer service representativ...\n",
        "      freq                                                    4"
       ]
      }
     ],
     "prompt_number": 4
    },
    {
     "cell_type": "markdown",
     "metadata": {},
     "source": [
      "How long are the messages?"
     ]
    },
    {
     "cell_type": "code",
     "collapsed": false,
     "input": [
      "messages['length'] = messages['message'].map(lambda text: len(text))\n",
      "print (messages.head())"
     ],
     "language": "python",
     "metadata": {},
     "outputs": [
      {
       "output_type": "stream",
       "stream": "stdout",
       "text": [
        "  label                                            message  length\n",
        "0   ham  Go until jurong point, crazy.. Available only ...     111\n",
        "1   ham                      Ok lar... Joking wif u oni...      29\n",
        "2  spam  Free entry in 2 a wkly comp to win FA Cup fina...     155\n",
        "3   ham  U dun say so early hor... U c already then say...      49\n",
        "4   ham  Nah I don't think he goes to usf, he lives aro...      61\n"
       ]
      }
     ],
     "prompt_number": 5
    },
    {
     "cell_type": "code",
     "collapsed": false,
     "input": [
      "messages.length.plot(bins=20,kind='hist')"
     ],
     "language": "python",
     "metadata": {},
     "outputs": [
      {
       "metadata": {},
       "output_type": "pyout",
       "prompt_number": 32,
       "text": [
        "<matplotlib.axes._subplots.AxesSubplot at 0x109df9b38>"
       ]
      },
      {
       "metadata": {},
       "output_type": "display_data",
       "png": "[encoded data removed]",
       "text": [
        "<matplotlib.figure.Figure at 0x1098ecba8>"
       ]
      }
     ],
     "prompt_number": 32
    },
    {
     "cell_type": "code",
     "collapsed": false,
     "input": [
      "messages.length.describe()"
     ],
     "language": "python",
     "metadata": {},
     "outputs": [
      {
       "metadata": {},
       "output_type": "pyout",
       "prompt_number": 19,
       "text": [
        "count    5574.000000\n",
        "mean       80.478292\n",
        "std        59.848302\n",
        "min         2.000000\n",
        "25%        36.000000\n",
        "50%        62.000000\n",
        "75%       122.000000\n",
        "max       910.000000\n",
        "Name: length, dtype: float64"
       ]
      }
     ],
     "prompt_number": 19
    },
    {
     "cell_type": "markdown",
     "metadata": {},
     "source": [
      "What is that super long message?"
     ]
    },
    {
     "cell_type": "code",
     "collapsed": false,
     "input": [
      "print (list(messages.message[messages.length > 900]))"
     ],
     "language": "python",
     "metadata": {},
     "outputs": [
      {
       "output_type": "stream",
       "stream": "stdout",
       "text": [
        "[\"For me the love should start with attraction.i should feel that I need her every time around me.she should be the first thing which comes in my thoughts.I would start the day and end it with her.she should be there every time I dream.love will be then when my every breath has her name.my life should happen around her.my life will be named to her.I would cry for her.will give all my happiness and take all her sorrows.I will be ready to fight with anyone for her.I will be in love when I will be doing the craziest things for her.love will be when I don't have to proove anyone that my girl is the most beautiful lady on the whole planet.I will always be singing praises for her.love will be when I start up making chicken curry and end up makiing sambar.life will be the most beautiful then.will get every morning and thank god for the day because she is with me.I would like to say a lot..will tell later..\"]\n"
       ]
      }
     ],
     "prompt_number": 6
    },
    {
     "cell_type": "markdown",
     "metadata": {},
     "source": [
      "Is there any difference in message length between spam and ham?"
     ]
    },
    {
     "cell_type": "code",
     "collapsed": false,
     "input": [
      "messages.hist(column='length', by='label', bins=10)"
     ],
     "language": "python",
     "metadata": {},
     "outputs": [
      {
       "metadata": {},
       "output_type": "pyout",
       "prompt_number": 7,
       "text": [
        "array([<matplotlib.axes._subplots.AxesSubplot object at 0x115cac550>,\n",
        "       <matplotlib.axes._subplots.AxesSubplot object at 0x115e6d470>], dtype=object)"
       ]
      },
      {
       "metadata": {},
       "output_type": "display_data",
       "png": "[encoded data removed]",
       "text": [
        "<matplotlib.figure.Figure at 0x11169fba8>"
       ]
      }
     ],
     "prompt_number": 7
    },
    {
     "cell_type": "markdown",
     "metadata": {},
     "source": [
      "Good fun, but how do we make computer understand the plain text messages themselves? Or can it under such malformed gibberish at all?"
     ]
    },
    {
     "cell_type": "heading",
     "level": 2,
     "metadata": {},
     "source": [
      "Step 2: Data preprocessing"
     ]
    },
    {
     "cell_type": "markdown",
     "metadata": {},
     "source": [
      "In this section we'll massage the raw messages (sequence of characters) into vectors (sequences of numbers).\n",
      "\n",
      "The mapping is not 1-to-1; we'll use the [bag-of-words](http://en.wikipedia.org/wiki/Bag-of-words_model) approach, where each unique word in a text will be represented by one number.\n",
      "\n",
      "As a first step, let's write a function that will split a message into its individual words:"
     ]
    },
    {
     "cell_type": "code",
     "collapsed": false,
     "input": [
      "def split_into_tokens(message):\n",
      "    message = str(message.encode('utf8'))  # convert bytes into proper unicode\n",
      "    return TextBlob(message).words"
     ],
     "language": "python",
     "metadata": {},
     "outputs": [],
     "prompt_number": 8
    },
    {
     "cell_type": "markdown",
     "metadata": {},
     "source": [
      "Here are some of the original texts again:\n",
      "    "
     ]
    },
    {
     "cell_type": "code",
     "collapsed": false,
     "input": [
      "messages.message.head()"
     ],
     "language": "python",
     "metadata": {},
     "outputs": [
      {
       "metadata": {},
       "output_type": "pyout",
       "prompt_number": 9,
       "text": [
        "0    Go until jurong point, crazy.. Available only ...\n",
        "1                        Ok lar... Joking wif u oni...\n",
        "2    Free entry in 2 a wkly comp to win FA Cup fina...\n",
        "3    U dun say so early hor... U c already then say...\n",
        "4    Nah I don't think he goes to usf, he lives aro...\n",
        "Name: message, dtype: object"
       ]
      }
     ],
     "prompt_number": 9
    },
    {
     "cell_type": "markdown",
     "metadata": {},
     "source": [
      "...and here are the same messages, tokenized:"
     ]
    },
    {
     "cell_type": "code",
     "collapsed": false,
     "input": [
      "messages.message.head().apply(split_into_tokens)"
     ],
     "language": "python",
     "metadata": {},
     "outputs": [
      {
       "metadata": {},
       "output_type": "pyout",
       "prompt_number": 10,
       "text": [
        "0    [b'Go, until, jurong, point, crazy, Available,...\n",
        "1                     [b'Ok, lar, Joking, wif, u, oni]\n",
        "2    [b, Free, entry, in, 2, a, wkly, comp, to, win...\n",
        "3    [b'U, dun, say, so, early, hor, U, c, already,...\n",
        "4    [b, Nah, I, do, n't, think, he, goes, to, usf,...\n",
        "Name: message, dtype: object"
       ]
      }
     ],
     "prompt_number": 10
    },
    {
     "cell_type": "markdown",
     "metadata": {},
     "source": [
      "NLP questions:\n",
      "\n",
      "1. Do capital letters carry information?\n",
      "2. Does distinguishing inflected form (\"goes\" vs. \"go\") carry information?\n",
      "3. Do interjections, determiners carry information?\n",
      "\n",
      "In other words, we want to better \"normalize\" the text.\n",
      "\n",
      "With textblob, we'd detect [part-of-speech (POS)](http://www.ling.upenn.edu/courses/Fall_2007/ling001/penn_treebank_pos.html) tags with:"
     ]
    },
    {
     "cell_type": "code",
     "collapsed": false,
     "input": [
      "TextBlob(\"Hello world, how is it going?\").tags  # list of (word, POS) pairs"
     ],
     "language": "python",
     "metadata": {},
     "outputs": [
      {
       "metadata": {},
       "output_type": "pyout",
       "prompt_number": 11,
       "text": [
        "[('Hello', 'UH'),\n",
        " ('world', 'NN'),\n",
        " ('how', 'WRB'),\n",
        " ('is', 'VBZ'),\n",
        " ('it', 'PRP'),\n",
        " ('going', 'VBG')]"
       ]
      }
     ],
     "prompt_number": 11
    },
    {
     "cell_type": "markdown",
     "metadata": {},
     "source": [
      "and normalize words into their base form ([lemmas](http://en.wikipedia.org/wiki/Lemmatisation)) with:"
     ]
    },
    {
     "cell_type": "code",
     "collapsed": false,
     "input": [
      "def split_into_lemmas(message):\n",
      "    message = str(message.encode('utf8')).lower()\n",
      "    words = TextBlob(message).words\n",
      "    # for each word, take its \"base form\" = lemma \n",
      "    return [word.lemma for word in words]\n",
      "\n",
      "messages.message.head().apply(split_into_lemmas)"
     ],
     "language": "python",
     "metadata": {},
     "outputs": [
      {
       "metadata": {},
       "output_type": "pyout",
       "prompt_number": 12,
       "text": [
        "0    [b'go, until, jurong, point, crazy, available,...\n",
        "1                     [b'ok, lar, joking, wif, u, oni]\n",
        "2    [b, free, entry, in, 2, a, wkly, comp, to, win...\n",
        "3    [b'u, dun, say, so, early, hor, u, c, already,...\n",
        "4    [b, nah, i, do, n't, think, he, go, to, usf, h...\n",
        "Name: message, dtype: object"
       ]
      }
     ],
     "prompt_number": 12
    },
    {
     "cell_type": "markdown",
     "metadata": {},
     "source": [
      "Better. You can probably think of many more ways to improve the preprocessing: decoding HTML entities (those `&amp;` and `&lt;` we saw above); filtering out stop words (pronouns etc); adding more features, such as an word-in-all-caps indicator and so on."
     ]
    },
    {
     "cell_type": "heading",
     "level": 2,
     "metadata": {},
     "source": [
      "Step 3: Data to vectors"
     ]
    },
    {
     "cell_type": "markdown",
     "metadata": {},
     "source": [
      "Now we'll convert each message, represented as a list of tokens (lemmas) above, into a vector that machine learning models can understand.\n",
      "\n",
      "Doing that requires essentially three steps, in the bag-of-words model:\n",
      "\n",
      "1. counting how many times does a word occur in each message (term frequency)\n",
      "2. weighting the counts, so that frequent tokens get lower weight (inverse document frequency)\n",
      "3. normalizing the vectors to unit length, to abstract from the original text length (L2 norm)"
     ]
    },
    {
     "cell_type": "markdown",
     "metadata": {},
     "source": [
      "We will use english stop words in our count vectorizer. For that we need to download the stopwords corpora."
     ]
    },
    {
     "cell_type": "code",
     "collapsed": false,
     "input": [
      "import nltk\n",
      "nltk.download('stopwords')"
     ],
     "language": "python",
     "metadata": {},
     "outputs": [
      {
       "output_type": "stream",
       "stream": "stdout",
       "text": [
        "[nltk_data] Downloading package stopwords to\n",
        "[nltk_data]     /Users/nmishra/nltk_data...\n",
        "[nltk_data]   Package stopwords is already up-to-date!\n"
       ]
      },
      {
       "metadata": {},
       "output_type": "pyout",
       "prompt_number": 13,
       "text": [
        "True"
       ]
      }
     ],
     "prompt_number": 13
    },
    {
     "cell_type": "markdown",
     "metadata": {},
     "source": [
      "Each vector has as many dimensions as there are unique words in the SMS corpus:"
     ]
    },
    {
     "cell_type": "code",
     "collapsed": false,
     "input": [
      "bow_transformer = CountVectorizer(analyzer=split_into_lemmas, stop_words='english').fit(messages['message'])\n",
      "print (len(bow_transformer.vocabulary_))\n"
     ],
     "language": "python",
     "metadata": {},
     "outputs": [
      {
       "output_type": "stream",
       "stream": "stdout",
       "text": [
        "9544\n"
       ]
      }
     ],
     "prompt_number": 14
    },
    {
     "cell_type": "markdown",
     "metadata": {},
     "source": [
      "Here we used `scikit-learn` (`sklearn`), a powerful Python library for teaching machine learning. It contains a multitude of various methods and options.\n",
      "\n",
      "Let's take one text message and get its bag-of-words counts as a vector, putting to use our new `bow_transformer`:"
     ]
    },
    {
     "cell_type": "code",
     "collapsed": false,
     "input": [
      "message4 = messages['message'][3]\n",
      "print (message4)"
     ],
     "language": "python",
     "metadata": {},
     "outputs": [
      {
       "output_type": "stream",
       "stream": "stdout",
       "text": [
        "U dun say so early hor... U c already then say...\n"
       ]
      }
     ],
     "prompt_number": 15
    },
    {
     "cell_type": "code",
     "collapsed": false,
     "input": [
      "bow4 = bow_transformer.transform([message4])\n",
      "print (bow4)\n",
      "print (bow4.shape)"
     ],
     "language": "python",
     "metadata": {},
     "outputs": [
      {
       "output_type": "stream",
       "stream": "stdout",
       "text": [
        "  (0, 1131)\t1\n",
        "  (0, 2213)\t1\n",
        "  (0, 2769)\t1\n",
        "  (0, 3756)\t1\n",
        "  (0, 3787)\t1\n",
        "  (0, 4848)\t1\n",
        "  (0, 7471)\t2\n",
        "  (0, 7837)\t1\n",
        "  (0, 8406)\t1\n",
        "  (0, 8716)\t1\n",
        "(1, 9544)\n"
       ]
      }
     ],
     "prompt_number": 16
    },
    {
     "cell_type": "markdown",
     "metadata": {},
     "source": [
      "So, nine unique words in message nr. 4, one of them appear twice, the rest only once. Sanity check: what are these words the appear twice?"
     ]
    },
    {
     "cell_type": "code",
     "collapsed": false,
     "input": [
      "print (bow_transformer.get_feature_names()[7471])"
     ],
     "language": "python",
     "metadata": {},
     "outputs": [
      {
       "output_type": "stream",
       "stream": "stdout",
       "text": [
        "say\n"
       ]
      }
     ],
     "prompt_number": 17
    },
    {
     "cell_type": "markdown",
     "metadata": {},
     "source": [
      "The bag-of-words counts for the entire SMS corpus are a large, sparse matrix:"
     ]
    },
    {
     "cell_type": "code",
     "collapsed": false,
     "input": [
      "messages_bow = bow_transformer.transform(messages['message'])\n",
      "print ('sparse matrix shape:', messages_bow.shape)\n",
      "print ('number of non-zeros:', messages_bow.nnz)\n",
      "print ('sparsity: %.2f%%' % (100.0 * messages_bow.nnz / (messages_bow.shape[0] * messages_bow.shape[1])))"
     ],
     "language": "python",
     "metadata": {},
     "outputs": [
      {
       "output_type": "stream",
       "stream": "stdout",
       "text": [
        "sparse matrix shape: (5574, 9544)\n",
        "number of non-zeros: 82041\n",
        "sparsity: 0.15%\n"
       ]
      }
     ],
     "prompt_number": 18
    },
    {
     "cell_type": "markdown",
     "metadata": {},
     "source": [
      "And finally, after the counting, the term weighting and normalization can be done with [TF-IDF](http://en.wikipedia.org/wiki/Tf%E2%80%93idf), using scikit-learn's `TfidfTransformer`:"
     ]
    },
    {
     "cell_type": "code",
     "collapsed": false,
     "input": [
      "tfidf_transformer = TfidfTransformer().fit(messages_bow)\n",
      "tfidf4 = tfidf_transformer.transform(bow4)\n",
      "print (tfidf4)"
     ],
     "language": "python",
     "metadata": {},
     "outputs": [
      {
       "output_type": "stream",
       "stream": "stdout",
       "text": [
        "  (0, 8716)\t0.152858507331\n",
        "  (0, 8406)\t0.22803419546\n",
        "  (0, 7837)\t0.193116233674\n",
        "  (0, 7471)\t0.520032543339\n",
        "  (0, 4848)\t0.449322565518\n",
        "  (0, 3787)\t0.326268375042\n",
        "  (0, 3756)\t0.300036567738\n",
        "  (0, 2769)\t0.243192568661\n",
        "  (0, 2213)\t0.292358807372\n",
        "  (0, 1131)\t0.271895010034\n"
       ]
      }
     ],
     "prompt_number": 19
    },
    {
     "cell_type": "markdown",
     "metadata": {},
     "source": [
      "What is the IDF (inverse document frequency) of the word `\"u\"`? Of word `\"university\"`?"
     ]
    },
    {
     "cell_type": "code",
     "collapsed": false,
     "input": [
      "print (tfidf_transformer.idf_[bow_transformer.vocabulary_['u']])\n",
      "print (tfidf_transformer.idf_[bow_transformer.vocabulary_['university']])"
     ],
     "language": "python",
     "metadata": {},
     "outputs": [
      {
       "output_type": "stream",
       "stream": "stdout",
       "text": [
        "2.90101395416\n",
        "8.52743530766\n"
       ]
      }
     ],
     "prompt_number": 20
    },
    {
     "cell_type": "markdown",
     "metadata": {},
     "source": [
      "To transform the entire bag-of-words corpus into TF-IDF corpus at once:"
     ]
    },
    {
     "cell_type": "code",
     "collapsed": false,
     "input": [
      "messages_tfidf = tfidf_transformer.transform(messages_bow)\n",
      "print (messages_tfidf.shape)"
     ],
     "language": "python",
     "metadata": {},
     "outputs": [
      {
       "output_type": "stream",
       "stream": "stdout",
       "text": [
        "(5574, 9544)\n"
       ]
      }
     ],
     "prompt_number": 21
    },
    {
     "cell_type": "markdown",
     "metadata": {},
     "source": [
      "The above steps of counting and tf-idf transformation can be condensed into a single step using TfIdfVectorizer."
     ]
    },
    {
     "cell_type": "code",
     "collapsed": false,
     "input": [
      "messages_tfidf_once = TfidfVectorizer(analyzer=split_into_lemmas, stop_words='english').fit_transform(messages['message'])\n",
      "print (messages_tfidf_once.shape)"
     ],
     "language": "python",
     "metadata": {},
     "outputs": [
      {
       "output_type": "stream",
       "stream": "stdout",
       "text": [
        "(5574, 9544)\n"
       ]
      }
     ],
     "prompt_number": 22
    },
    {
     "cell_type": "markdown",
     "metadata": {},
     "source": [
      "There are a multitude of ways in which data can be proprocessed and vectorized. These two steps, also called \"feature engineering\", are typically the most time consuming and \"unsexy\" parts of building a predictive pipeline, but they are very important and require some experience. The trick is to evaluate constantly: analyze model for the errors it makes, improve data cleaning & preprocessing, brainstorm for new features, evaluate..."
     ]
    },
    {
     "cell_type": "heading",
     "level": 2,
     "metadata": {},
     "source": [
      "Step 4: Training a model, detecting spam"
     ]
    },
    {
     "cell_type": "markdown",
     "metadata": {},
     "source": [
      "With messages represented as vectors, we can finally train our spam/ham classifier. This part is pretty straightforward, and there are many libraries that realize the training algorithms."
     ]
    },
    {
     "cell_type": "markdown",
     "metadata": {},
     "source": [
      "We'll be using scikit-learn here, choosing the [Naive Bayes](http://en.wikipedia.org/wiki/Naive_Bayes_classifier) classifier to start with:"
     ]
    },
    {
     "cell_type": "code",
     "collapsed": false,
     "input": [
      "%time spam_detector = MultinomialNB().fit(messages_tfidf, messages['label'])"
     ],
     "language": "python",
     "metadata": {},
     "outputs": [
      {
       "output_type": "stream",
       "stream": "stdout",
       "text": [
        "CPU times: user 10.9 ms, sys: 2.06 ms, total: 13 ms\n",
        "Wall time: 26.2 ms\n"
       ]
      }
     ],
     "prompt_number": 23
    },
    {
     "cell_type": "markdown",
     "metadata": {},
     "source": [
      "Let's try classifying our single random message:"
     ]
    },
    {
     "cell_type": "code",
     "collapsed": false,
     "input": [
      "print ('predicted:', spam_detector.predict(tfidf4)[0])\n",
      "print ('expected:', messages.label[3])"
     ],
     "language": "python",
     "metadata": {},
     "outputs": [
      {
       "output_type": "stream",
       "stream": "stdout",
       "text": [
        "predicted: ham\n",
        "expected: ham\n"
       ]
      }
     ],
     "prompt_number": 24
    },
    {
     "cell_type": "markdown",
     "metadata": {},
     "source": [
      "Hooray! You can try it with your own texts, too.\n",
      "\n",
      "A natural question is to ask, how many messages do we classify correctly overall?\n",
      "Before proceeding, we will introduce few terms which, will help if gauging the prediction accuracy of our model.\n",
      "\n",
      "**Confusion Matrix**: This is the matrix , between the actual values and predicted values.\n",
      "\n",
      "Predicted: 1, Actual: 1 --- True positive\n",
      "\n",
      "Predicted: 0, Actual: 0 --- True negative\n",
      "\n",
      "Predicted: 0, Actual, 1 --- False negative\n",
      "\n",
      "Predicted: 1, Actual: 0 --- False positive\n",
      "\n",
      "\n",
      "**Precision**: It's the total number predicted ham messages over the total total predictions.  \n",
      "\n",
      "                             Total# true positives\n",
      "    Precision(P) = -----------------------------------------------  \n",
      "                Total# true positives + Total# false positives  \n",
      "            \n",
      "**Recall**: Out of the all messages that are ham, how many did we correctly predict to be ham.\n",
      "\n",
      "                            Total# true positives  \n",
      "    Recall(R) = ---------------------------------------------------  \n",
      "                Total# true positives + Total# false negatives  \n",
      "                \n",
      "How do we measure both high precision and high recall? We use the F score which, is defined as:  \n",
      "\n",
      "                  PR\n",
      "    F Score = 2 -------\n",
      "                 P + R\n",
      "\n"
     ]
    },
    {
     "cell_type": "code",
     "collapsed": false,
     "input": [
      "all_predictions = spam_detector.predict(messages_tfidf)\n",
      "print (all_predictions)"
     ],
     "language": "python",
     "metadata": {},
     "outputs": [
      {
       "output_type": "stream",
       "stream": "stdout",
       "text": [
        "['ham' 'ham' 'spam' ..., 'ham' 'ham' 'ham']\n"
       ]
      }
     ],
     "prompt_number": 25
    },
    {
     "cell_type": "code",
     "collapsed": false,
     "input": [
      "print ('accuracy', accuracy_score(messages['label'], all_predictions))\n",
      "print ('confusion matrix\\n', confusion_matrix(messages['label'], all_predictions))\n",
      "print ('(row=expected, col=predicted)')"
     ],
     "language": "python",
     "metadata": {},
     "outputs": [
      {
       "output_type": "stream",
       "stream": "stdout",
       "text": [
        "accuracy 0.970757086473\n",
        "confusion matrix\n",
        " [[4827    0]\n",
        " [ 163  584]]\n",
        "(row=expected, col=predicted)\n"
       ]
      }
     ],
     "prompt_number": 26
    },
    {
     "cell_type": "code",
     "collapsed": false,
     "input": [
      "plt.matshow(confusion_matrix(messages['label'], all_predictions), cmap=plt.cm.binary, interpolation='nearest')\n",
      "plt.title('confusion matrix')\n",
      "plt.colorbar()\n",
      "plt.ylabel('expected label')\n",
      "plt.xlabel('predicted label')"
     ],
     "language": "python",
     "metadata": {},
     "outputs": [
      {
       "metadata": {},
       "output_type": "pyout",
       "prompt_number": 27,
       "text": [
        "<matplotlib.text.Text at 0x11a9fbf98>"
       ]
      },
      {
       "metadata": {},
       "output_type": "display_data",
       "png": "[encoded data removed]",
       "text": [
        "<matplotlib.figure.Figure at 0x11aba4828>"
       ]
      }
     ],
     "prompt_number": 27
    },
    {
     "cell_type": "markdown",
     "metadata": {},
     "source": [
      "From this confusion matrix, we can compute precision and recall, or their combination (harmonic mean) F1:"
     ]
    },
    {
     "cell_type": "code",
     "collapsed": false,
     "input": [
      "print (classification_report(messages['label'], all_predictions))"
     ],
     "language": "python",
     "metadata": {},
     "outputs": [
      {
       "output_type": "stream",
       "stream": "stdout",
       "text": [
        "             precision    recall  f1-score   support\n",
        "\n",
        "        ham       0.97      1.00      0.98      4827\n",
        "       spam       1.00      0.78      0.88       747\n",
        "\n",
        "avg / total       0.97      0.97      0.97      5574\n",
        "\n"
       ]
      }
     ],
     "prompt_number": 28
    },
    {
     "cell_type": "markdown",
     "metadata": {},
     "source": [
      "There are quite a few possible metrics for evaluating model performance. Which one is the most suitable depends on the task. For example, the cost of mispredicting \"spam\" as \"ham\" is probably much lower than mispredicting \"ham\" as \"spam\"."
     ]
    },
    {
     "cell_type": "heading",
     "level": 2,
     "metadata": {},
     "source": [
      "Step 5: How to run experiments?"
     ]
    },
    {
     "cell_type": "markdown",
     "metadata": {},
     "source": [
      "In the above \"evaluation\", we committed a cardinal sin. For simplicity of demonstration, we evaluated accuracy on the same data we used for training. **Never evaluate on the same dataset you train on! Bad! Incest!**\n",
      "\n",
      "Such evaluation tells us nothing about the true predictive power of our model. If we simply remembered each example during training, the accuracy on training data would trivially be 100%, even though we wouldn't be able to classify any new messages.\n",
      "\n",
      "A proper way is to split the data into a training/test set, where the model only ever sees the **training data** during its model fitting and parameter tuning. The **test data** is never used in any way -- thanks to this process, we make sure we are not \"cheating\", and that our final evaluation on test data is representative of true predictive performance."
     ]
    },
    {
     "cell_type": "code",
     "collapsed": false,
     "input": [
      "msg_train, msg_test, label_train, label_test = \\\n",
      "    train_test_split(messages['message'], messages['label'], test_size=0.2)\n",
      "\n",
      "print(len(msg_train), len(msg_test), len(msg_train) + len(msg_test))"
     ],
     "language": "python",
     "metadata": {},
     "outputs": [
      {
       "output_type": "stream",
       "stream": "stdout",
       "text": [
        "4459 1115 5574\n"
       ]
      }
     ],
     "prompt_number": 29
    },
    {
     "cell_type": "markdown",
     "metadata": {},
     "source": [
      "So, as requested, the test size is 20% of the entire dataset (1115 messages out of total 5574), and the training is the rest (4459 out of 5574)."
     ]
    },
    {
     "cell_type": "markdown",
     "metadata": {},
     "source": [
      "Let's recap the entire pipeline up to this point, putting the steps explicitly into scikit-learn's `Pipeline`:"
     ]
    },
    {
     "cell_type": "code",
     "collapsed": false,
     "input": [
      "def split_into_lemmas(message):\n",
      "    message = str(message.encode('utf8')).lower()\n",
      "    words = TextBlob(message).words\n",
      "    # for each word, take its \"base form\" = lemma \n",
      "    return [word.lemma for word in words]\n",
      "\n",
      "pipeline = Pipeline([\n",
      "    ('bow', CountVectorizer(analyzer=split_into_lemmas)),  # strings to token integer counts\n",
      "    ('tfidf', TfidfTransformer()),  # integer counts to weighted TF-IDF scores\n",
      "    ('classifier', MultinomialNB()),  # train on TF-IDF vectors w/ Naive Bayes classifier\n",
      "])"
     ],
     "language": "python",
     "metadata": {},
     "outputs": [],
     "prompt_number": 30
    },
    {
     "cell_type": "markdown",
     "metadata": {},
     "source": [
      "A common practice is to partition the training set again, into smaller subsets; for example, 5 equally sized subsets. Then we train the model on four parts, and compute accuracy on the last part (called \"validation set\"). Repeated five times (taking different part for evaluation each time), we get a sense of model \"stability\". If the model gives wildly different scores for different subsets, it's a sign something is wrong (bad data, or bad model variance). Go back, analyze errors, re-check input data for garbage, re-check data cleaning.\n",
      "\n",
      "In our case, everything goes smoothly though:"
     ]
    },
    {
     "cell_type": "code",
     "collapsed": false,
     "input": [
      "scores = cross_val_score(pipeline,  # steps to convert raw messages into models\n",
      "                         msg_train,  # training data\n",
      "                         label_train,  # training labels\n",
      "                         cv=10,  # split data randomly into 10 parts: 9 for training, 1 for scoring\n",
      "                         scoring='accuracy',  # which scoring metric?\n",
      "                         n_jobs=-1,  # -1 = use all cores = faster\n",
      "                         )\n",
      "print (scores)"
     ],
     "language": "python",
     "metadata": {},
     "outputs": [
      {
       "output_type": "stream",
       "stream": "stdout",
       "text": [
        "[ 0.9529148   0.93721973  0.94618834  0.95515695  0.95067265  0.94618834\n",
        "  0.95515695  0.93721973  0.9573991   0.94606742]\n"
       ]
      }
     ],
     "prompt_number": 31
    },
    {
     "cell_type": "markdown",
     "metadata": {},
     "source": [
      "The scores are indeed a little bit worse than when we trained on the entire dataset (5574 training examples, accuracy 0.97). They are fairly stable though:"
     ]
    },
    {
     "cell_type": "code",
     "collapsed": false,
     "input": [
      "print (scores.mean(), scores.std())"
     ],
     "language": "python",
     "metadata": {},
     "outputs": [
      {
       "output_type": "stream",
       "stream": "stdout",
       "text": [
        "0.948418400766 0.00680486746594\n"
       ]
      }
     ],
     "prompt_number": 32
    },
    {
     "cell_type": "markdown",
     "metadata": {},
     "source": [
      "A natural question is, how can we improve this model? The scores are already high here, but how would we go about improving a model in general?\n",
      "\n",
      "Naive Bayes is an example of a [high bias - low variance](http://en.wikipedia.org/wiki/Bias%E2%80%93variance_tradeoff) classifier (aka simple and stable, not prone to overfitting). An example from the opposite side of the spectrum would be Nearest Neighbour (kNN) classifiers, or Decision Trees, with their low bias but high variance (easy to overfit). Bagging (Random Forests) as a way to lower variance, by training many (high-variance) models and averaging."
     ]
    },
    {
     "cell_type": "markdown",
     "metadata": {},
     "source": [
      "[![](http://radimrehurek.com/data_science_python/plot_bias_variance_examples_2.png)](http://www.astroml.org/sklearn_tutorial/practical.html#bias-variance-over-fitting-and-under-fitting)"
     ]
    },
    {
     "cell_type": "markdown",
     "metadata": {},
     "source": [
      "In other words:\n",
      "\n",
      "* **high bias** = classifer is opinionated. Not as much room to change its mind with data, it has its own ideas. On the other hand, not as much room it can fool itself into overfitting either (picture on the left).\n",
      "* **low bias** = classifier more obedient, but also more neurotic. Will do exactly what you ask it to do, which, as everybody knows, can be a real nuisance (picture on the right)."
     ]
    },
    {
     "cell_type": "code",
     "collapsed": false,
     "input": [
      "def plot_learning_curve(estimator, title, X, y, ylim=None, cv=None,\n",
      "                        n_jobs=-1, train_sizes=np.linspace(.1, 1.0, 5)):\n",
      "    \"\"\"\n",
      "    Generate a simple plot of the test and traning learning curve.\n",
      "\n",
      "    Parameters\n",
      "    ----------\n",
      "    estimator : object type that implements the \"fit\" and \"predict\" methods\n",
      "        An object of that type which is cloned for each validation.\n",
      "\n",
      "    title : string\n",
      "        Title for the chart.\n",
      "\n",
      "    X : array-like, shape (n_samples, n_features)\n",
      "        Training vector, where n_samples is the number of samples and\n",
      "        n_features is the number of features.\n",
      "\n",
      "    y : array-like, shape (n_samples) or (n_samples, n_features), optional\n",
      "        Target relative to X for classification or regression;\n",
      "        None for unsupervised learning.\n",
      "\n",
      "    ylim : tuple, shape (ymin, ymax), optional\n",
      "        Defines minimum and maximum yvalues plotted.\n",
      "\n",
      "    cv : integer, cross-validation generator, optional\n",
      "        If an integer is passed, it is the number of folds (defaults to 3).\n",
      "        Specific cross-validation objects can be passed, see\n",
      "        sklearn.cross_validation module for the list of possible objects\n",
      "\n",
      "    n_jobs : integer, optional\n",
      "        Number of jobs to run in parallel (default 1).\n",
      "    \"\"\"\n",
      "    plt.figure()\n",
      "    plt.title(title)\n",
      "    if ylim is not None:\n",
      "        plt.ylim(*ylim)\n",
      "    plt.xlabel(\"Training examples\")\n",
      "    plt.ylabel(\"Score\")\n",
      "    train_sizes, train_scores, test_scores = learning_curve(\n",
      "        estimator, X, y, cv=cv, n_jobs=n_jobs, train_sizes=train_sizes)\n",
      "    train_scores_mean = np.mean(train_scores, axis=1)\n",
      "    train_scores_std = np.std(train_scores, axis=1)\n",
      "    test_scores_mean = np.mean(test_scores, axis=1)\n",
      "    test_scores_std = np.std(test_scores, axis=1)\n",
      "    plt.grid()\n",
      "\n",
      "    plt.fill_between(train_sizes, train_scores_mean - train_scores_std,\n",
      "                     train_scores_mean + train_scores_std, alpha=0.1,\n",
      "                     color=\"r\")\n",
      "    plt.fill_between(train_sizes, test_scores_mean - test_scores_std,\n",
      "                     test_scores_mean + test_scores_std, alpha=0.1, color=\"g\")\n",
      "    plt.plot(train_sizes, train_scores_mean, 'o-', color=\"r\",\n",
      "             label=\"Training score\")\n",
      "    plt.plot(train_sizes, test_scores_mean, 'o-', color=\"g\",\n",
      "             label=\"Cross-validation score\")\n",
      "\n",
      "    plt.legend(loc=\"best\")\n",
      "    return plt"
     ],
     "language": "python",
     "metadata": {},
     "outputs": [],
     "prompt_number": 33
    },
    {
     "cell_type": "code",
     "collapsed": false,
     "input": [
      "%time plot_learning_curve(pipeline, \"accuracy vs. training set size\", msg_train, label_train, cv=5)"
     ],
     "language": "python",
     "metadata": {},
     "outputs": [
      {
       "output_type": "stream",
       "stream": "stdout",
       "text": [
        "CPU times: user 591 ms, sys: 104 ms, total: 695 ms\n",
        "Wall time: 1min 59s\n"
       ]
      },
      {
       "metadata": {},
       "output_type": "pyout",
       "prompt_number": 34,
       "text": [
        "<module 'matplotlib.pyplot' from '/Users/nmishra/.virtualenvs/spmclf@python3.3.2/lib/python3.4/site-packages/matplotlib/pyplot.py'>"
       ]
      },
      {
       "metadata": {},
       "output_type": "display_data",
       "png": "[encoded data removed]",
       "text": [
        "<matplotlib.figure.Figure at 0x10f8557f0>"
       ]
      }
     ],
     "prompt_number": 34
    },
    {
     "cell_type": "markdown",
     "metadata": {},
     "source": [
      "(We're effectively training on 64% of all available data: we reserved 20% for the test set above, and the 5-fold cross validation reserves another 20% for validation sets => `0.8*0.8*5574=3567` training examples left.)"
     ]
    },
    {
     "cell_type": "markdown",
     "metadata": {},
     "source": [
      "Since performance keeps growing, both for training and cross validation scores, we see our model is not complex/flexible enough to capture all nuance, given little data. In this particular case, it's not very pronounced, since the accuracies are high anyway.\n",
      "\n",
      "At this point, we have two options:\n",
      "\n",
      "1. use more training data, to overcome low model complexity\n",
      "2. use a more complex (lower bias) model to start with, to get more out of the existing data\n",
      "\n",
      "Over the last years, as massive training data collections become more available, and as machines get faster, approach 1. is becoming more and more popular (simpler algorithms, more data). Straightforward algorithms, such as Naive Bayes, also have the added benefit of being easier to interpret (compared to some more complex, black-box models, like neural networks).\n",
      "\n",
      "Knowing how to evaluate models properly, we can now explore how different parameters affect the performace."
     ]
    },
    {
     "cell_type": "heading",
     "level": 2,
     "metadata": {},
     "source": [
      "Step 6: How to tune parameters?"
     ]
    },
    {
     "cell_type": "markdown",
     "metadata": {},
     "source": [
      "What we've seen so far is only a tip of the iceberg: there are many other parameters to tune. One example is what algorithm to use for training.\n",
      "\n",
      "We've used Naive Bayes above, but scikit-learn supports many classifiers out of the box: Support Vector Machines, Nearest Neighbours, Decision Trees, Ensamble methods..."
     ]
    },
    {
     "cell_type": "markdown",
     "metadata": {},
     "source": [
      "[![](http://radimrehurek.com/data_science_python/drop_shadows_background.png)](http://peekaboo-vision.blogspot.cz/2013/01/machine-learning-cheat-sheet-for-scikit.html)"
     ]
    },
    {
     "cell_type": "markdown",
     "metadata": {},
     "source": [
      "We can ask: What is the effect of IDF weighting on accuracy? Does the extra processing cost of lemmatization (vs. just plain words) really help?\n",
      "\n",
      "Let's find out:"
     ]
    },
    {
     "cell_type": "code",
     "collapsed": false,
     "input": [
      "params = {\n",
      "    'tfidf__use_idf': (True, False),\n",
      "    'bow__analyzer': (split_into_lemmas, split_into_tokens),\n",
      "}\n",
      "\n",
      "grid = GridSearchCV(\n",
      "    pipeline,  # pipeline from above\n",
      "    params,  # parameters to tune via cross validation\n",
      "    refit=True,  # fit using all available data at the end, on the best found param combination\n",
      "    n_jobs=-1,  # number of cores to use for parallelization; -1 for \"all cores\"\n",
      "    scoring='accuracy',  # what score are we optimizing?\n",
      "    cv=StratifiedKFold(label_train, n_folds=5),  # what type of cross validation to use\n",
      ")"
     ],
     "language": "python",
     "metadata": {},
     "outputs": [],
     "prompt_number": 37
    },
    {
     "cell_type": "code",
     "collapsed": false,
     "input": [
      "%time nb_detector = grid.fit(msg_train, label_train)\n",
      "print (nb_detector.grid_scores_)"
     ],
     "language": "python",
     "metadata": {},
     "outputs": [
      {
       "output_type": "stream",
       "stream": "stdout",
       "text": [
        "CPU times: user 6.43 s, sys: 120 ms, total: 6.55 s\n",
        "Wall time: 1min 11s\n",
        "[mean: 0.94550, std: 0.00206, params: {'tfidf__use_idf': True, 'bow__analyzer': <function split_into_lemmas at 0x11661e730>}, mean: 0.93048, std: 0.00537, params: {'tfidf__use_idf': False, 'bow__analyzer': <function split_into_lemmas at 0x11661e730>}, mean: 0.94416, std: 0.00414, params: {'tfidf__use_idf': True, 'bow__analyzer': <function split_into_tokens at 0x116612950>}, mean: 0.92891, std: 0.00435, params: {'tfidf__use_idf': False, 'bow__analyzer': <function split_into_tokens at 0x116612950>}]\n"
       ]
      }
     ],
     "prompt_number": 38
    },
    {
     "cell_type": "markdown",
     "metadata": {},
     "source": [
      "(best parameter combinations are displayed first: in this case, `use_idf=True` and `analyzer=split_into_lemmas` take the prize).\n",
      "\n",
      "A quick sanity check:"
     ]
    },
    {
     "cell_type": "code",
     "collapsed": false,
     "input": [
      "print (nb_detector.predict_proba([\"Hi mom, how are you?\"])[0])\n",
      "print (nb_detector.predict_proba([\"WINNER! Credit for free!\"])[0])"
     ],
     "language": "python",
     "metadata": {},
     "outputs": [
      {
       "output_type": "stream",
       "stream": "stdout",
       "text": [
        "[ 0.99146235  0.00853765]\n",
        "[ 0.46279725  0.53720275]\n"
       ]
      }
     ],
     "prompt_number": 39
    },
    {
     "cell_type": "markdown",
     "metadata": {},
     "source": [
      "The `predict_proba` returns the predicted probability for each class (ham, spam). In the first case, the message is predicted to be ham with > 99% probability, and spam with < 1%. So if forced to choose, the model will say \"ham\":"
     ]
    },
    {
     "cell_type": "code",
     "collapsed": false,
     "input": [
      "print (nb_detector.predict([\"Hi mom, how are you?\"])[0])\n",
      "print (nb_detector.predict([\"WINNER! Credit for free!\"])[0])"
     ],
     "language": "python",
     "metadata": {},
     "outputs": [
      {
       "output_type": "stream",
       "stream": "stdout",
       "text": [
        "ham\n",
        "spam\n"
       ]
      }
     ],
     "prompt_number": 40
    },
    {
     "cell_type": "markdown",
     "metadata": {},
     "source": [
      "And overall scores on the test set, the one we haven't used at all during training:"
     ]
    },
    {
     "cell_type": "code",
     "collapsed": false,
     "input": [
      "predictions = nb_detector.predict(msg_test)\n",
      "print (confusion_matrix(label_test, predictions))\n",
      "print (classification_report(label_test, predictions))"
     ],
     "language": "python",
     "metadata": {},
     "outputs": [
      {
       "output_type": "stream",
       "stream": "stdout",
       "text": [
        "[[968   0]\n",
        " [ 56  91]]\n",
        "             precision    recall  f1-score   support\n",
        "\n",
        "        ham       0.95      1.00      0.97       968\n",
        "       spam       1.00      0.62      0.76       147\n",
        "\n",
        "avg / total       0.95      0.95      0.94      1115\n",
        "\n"
       ]
      }
     ],
     "prompt_number": 41
    },
    {
     "cell_type": "markdown",
     "metadata": {},
     "source": [
      "This is then the realistic predictive performance we can expect from our spam detection pipeline, when using lowercase with lemmatization, TF-IDF and Naive Bayes for classifier."
     ]
    },
    {
     "cell_type": "markdown",
     "metadata": {},
     "source": [
      "Let's try with another classifier: [Support Vector Machines (SVM)](http://en.wikipedia.org/wiki/Support_vector_machine). SVMs are a great starting point when classifying text data, getting state of the art results very quickly and with pleasantly little tuning (although a bit more than Naive Bayes):"
     ]
    },
    {
     "cell_type": "code",
     "collapsed": false,
     "input": [
      "pipeline_svm = Pipeline([\n",
      "    ('bow', CountVectorizer(analyzer=split_into_lemmas)),\n",
      "    ('tfidf', TfidfTransformer()),\n",
      "    ('classifier', SVC()),  # <== change here\n",
      "])\n",
      "\n",
      "# pipeline parameters to automatically explore and tune\n",
      "param_svm = [\n",
      "  {'classifier__C': [1, 10, 100, 1000], 'classifier__kernel': ['linear']},\n",
      "  {'classifier__C': [1, 10, 100, 1000], 'classifier__gamma': [0.001, 0.0001], 'classifier__kernel': ['rbf']},\n",
      "]\n",
      "\n",
      "grid_svm = GridSearchCV(\n",
      "    pipeline_svm,  # pipeline from above\n",
      "    param_grid=param_svm,  # parameters to tune via cross validation\n",
      "    refit=True,  # fit using all data, on the best detected classifier\n",
      "    n_jobs=-1,  # number of cores to use for parallelization; -1 for \"all cores\"\n",
      "    scoring='accuracy',  # what score are we optimizing?\n",
      "    cv=StratifiedKFold(label_train, n_folds=5),  # what type of cross validation to use\n",
      ")"
     ],
     "language": "python",
     "metadata": {},
     "outputs": [],
     "prompt_number": 42
    },
    {
     "cell_type": "code",
     "collapsed": false,
     "input": [
      "%time svm_detector = grid_svm.fit(msg_train, label_train) # find the best combination from param_svm\n",
      "print (svm_detector.grid_scores_)"
     ],
     "language": "python",
     "metadata": {},
     "outputs": [
      {
       "output_type": "stream",
       "stream": "stdout",
       "text": [
        "CPU times: user 8.14 s, sys: 246 ms, total: 8.38 s\n",
        "Wall time: 4min 31s\n",
        "[mean: 0.98385, std: 0.00385, params: {'classifier__C': 1, 'classifier__kernel': 'linear'}, mean: 0.98453, std: 0.00416, params: {'classifier__C': 10, 'classifier__kernel': 'linear'}, mean: 0.98453, std: 0.00416, params: {'classifier__C': 100, 'classifier__kernel': 'linear'}, mean: 0.98453, std: 0.00416, params: {'classifier__C': 1000, 'classifier__kernel': 'linear'}, mean: 0.86544, std: 0.00006, params: {'classifier__C': 1, 'classifier__gamma': 0.001, 'classifier__kernel': 'rbf'}, mean: 0.86544, std: 0.00006, params: {'classifier__C': 1, 'classifier__gamma': 0.0001, 'classifier__kernel': 'rbf'}, mean: 0.86544, std: 0.00006, params: {'classifier__C': 10, 'classifier__gamma': 0.001, 'classifier__kernel': 'rbf'}, mean: 0.86544, std: 0.00006, params: {'classifier__C': 10, 'classifier__gamma': 0.0001, 'classifier__kernel': 'rbf'}, mean: 0.96658, std: 0.00472, params: {'classifier__C': 100, 'classifier__gamma': 0.001, 'classifier__kernel': 'rbf'}, mean: 0.86544, std: 0.00006, params: {'classifier__C': 100, 'classifier__gamma': 0.0001, 'classifier__kernel': 'rbf'}, mean: 0.98565, std: 0.00416, params: {'classifier__C': 1000, 'classifier__gamma': 0.001, 'classifier__kernel': 'rbf'}, mean: 0.96658, std: 0.00472, params: {'classifier__C': 1000, 'classifier__gamma': 0.0001, 'classifier__kernel': 'rbf'}]\n"
       ]
      }
     ],
     "prompt_number": 43
    },
    {
     "cell_type": "markdown",
     "metadata": {},
     "source": [
      "So apparently, linear kernel with `C=1` is the best parameter combination.\n",
      "\n",
      "Sanity check again:"
     ]
    },
    {
     "cell_type": "code",
     "collapsed": false,
     "input": [
      "print (svm_detector.predict([\"Hi mom, how are you?\"])[0])\n",
      "print (svm_detector.predict([\"WINNER! Credit for free!\"])[0])"
     ],
     "language": "python",
     "metadata": {},
     "outputs": [
      {
       "output_type": "stream",
       "stream": "stdout",
       "text": [
        "ham\n",
        "spam\n"
       ]
      }
     ],
     "prompt_number": 105
    },
    {
     "cell_type": "code",
     "collapsed": false,
     "input": [
      "print (confusion_matrix(label_test, svm_detector.predict(msg_test)))\n",
      "print (classification_report(label_test, svm_detector.predict(msg_test)))"
     ],
     "language": "python",
     "metadata": {},
     "outputs": [
      {
       "output_type": "stream",
       "stream": "stdout",
       "text": [
        "[[963   0]\n",
        " [ 11 141]]\n",
        "             precision    recall  f1-score   support\n",
        "\n",
        "        ham       0.99      1.00      0.99       963\n",
        "       spam       1.00      0.93      0.96       152\n",
        "\n",
        "avg / total       0.99      0.99      0.99      1115\n"
       ]
      },
      {
       "output_type": "stream",
       "stream": "stdout",
       "text": [
        "\n"
       ]
      }
     ],
     "prompt_number": 106
    },
    {
     "cell_type": "markdown",
     "metadata": {},
     "source": [
      "This is then the realistic predictive performance we can expect from our spam detection pipeline, when using SVMs."
     ]
    },
    {
     "cell_type": "markdown",
     "metadata": {},
     "source": [
      "Let's try with another classifier: [Perceptron](http://en.wikipedia.org/wiki/Perceptron). Perceptron are great for multilabel classification. Let's find it's performance for binary classification:"
     ]
    },
    {
     "cell_type": "code",
     "collapsed": false,
     "input": [
      "pipeline_perceptron = Pipeline([\n",
      "    ('tfidf',TfidfVectorizer(analyzer=split_into_lemmas, stop_words='english')),\n",
      "    ('classifier', Perceptron()),  # <== change here\n",
      "])\n",
      "\n",
      "# pipeline parameters to automatically explore and tune\n",
      "param_perceptron = [\n",
      "  {'classifier__penalty': ['elasticnet'], 'classifier__alpha': [0.00001, 0.000019], 'classifier__warm_start': [True]},\n",
      "  {'classifier__penalty': ['elasticnet'], 'classifier__alpha': [0.00001, 0.000019], 'classifier__warm_start': [False]},\n",
      "]\n",
      "\n",
      "grid_perceptron = GridSearchCV(\n",
      "    pipeline_perceptron,  # pipeline from above\n",
      "    param_grid=param_perceptron,  # parameters to tune via cross validation\n",
      "    refit=True,  # fit using all data, on the best detected classifier\n",
      "    n_jobs=-1,  # number of cores to use for parallelization; -1 for \"all cores\"\n",
      "    scoring='accuracy',  # what score are we optimizing?\n",
      "    cv=StratifiedKFold(label_train, n_folds=5),  # what type of cross validation to use\n",
      ")"
     ],
     "language": "python",
     "metadata": {},
     "outputs": [],
     "prompt_number": 129
    },
    {
     "cell_type": "code",
     "collapsed": false,
     "input": [
      "%time perceptron_detector = grid_perceptron.fit(msg_train, label_train) # find the best combination from param_svm\n",
      "print (perceptron_detector.grid_scores_)"
     ],
     "language": "python",
     "metadata": {},
     "outputs": [
      {
       "output_type": "stream",
       "stream": "stdout",
       "text": [
        "CPU times: user 7.1 s, sys: 258 ms, total: 7.36 s\n",
        "Wall time: 2min 10s\n",
        "[mean: 0.97556, std: 0.00647, params: {'classifier__alpha': 1e-05, 'classifier__penalty': 'elasticnet', 'classifier__warm_start': True}, mean: 0.97511, std: 0.00831, params: {'classifier__alpha': 1.9e-05, 'classifier__penalty': 'elasticnet', 'classifier__warm_start': True}, mean: 0.97556, std: 0.00647, params: {'classifier__alpha': 1e-05, 'classifier__penalty': 'elasticnet', 'classifier__warm_start': False}, mean: 0.97511, std: 0.00831, params: {'classifier__alpha': 1.9e-05, 'classifier__penalty': 'elasticnet', 'classifier__warm_start': False}]\n"
       ]
      }
     ],
     "prompt_number": 132
    },
    {
     "cell_type": "markdown",
     "metadata": {},
     "source": [
      "So a perceptron with alpha=0.00001, penalty=elasticnet is the best performing perceptron\n",
      "\n",
      "\n",
      "Sanity check. "
     ]
    },
    {
     "cell_type": "code",
     "collapsed": false,
     "input": [
      "print (perceptron_detector.predict([\"Hi mom, how are you?\"])[0])\n",
      "print (perceptron_detector.predict([\"WINNER! Credit for free!\"])[0])"
     ],
     "language": "python",
     "metadata": {},
     "outputs": [
      {
       "output_type": "stream",
       "stream": "stdout",
       "text": [
        "ham\n",
        "spam\n"
       ]
      }
     ],
     "prompt_number": 133
    },
    {
     "cell_type": "code",
     "collapsed": false,
     "input": [
      "print (confusion_matrix(label_test, svm_detector.predict(msg_test)))\n",
      "print (classification_report(label_test, svm_detector.predict(msg_test)))"
     ],
     "language": "python",
     "metadata": {},
     "outputs": [
      {
       "output_type": "stream",
       "stream": "stdout",
       "text": [
        "[[963   0]\n",
        " [ 11 141]]\n",
        "             precision    recall  f1-score   support\n",
        "\n",
        "        ham       0.99      1.00      0.99       963\n",
        "       spam       1.00      0.93      0.96       152\n",
        "\n",
        "avg / total       0.99      0.99      0.99      1115\n"
       ]
      },
      {
       "output_type": "stream",
       "stream": "stdout",
       "text": [
        "\n"
       ]
      }
     ],
     "prompt_number": 134
    },
    {
     "cell_type": "markdown",
     "metadata": {},
     "source": [
      "The perceptron results were satisfactory, but the SVM performed better than perceptron. This kind of analysis, helps in realizing if more data collection, feature engineering or optimization to the model parameters are necessary. "
     ]
    },
    {
     "cell_type": "heading",
     "level": 2,
     "metadata": {},
     "source": [
      "Step 7: Productionalizing a predictor"
     ]
    },
    {
     "cell_type": "markdown",
     "metadata": {},
     "source": [
      "With basic analysis and tuning done, the real work (engineering) begins.\n",
      "\n",
      "The final step for a production predictor would be training it on the entire dataset again, to make full use of all the data available. We'd use the best parameters found via cross validation above, of course. This is very similar to what we did in the beginning, but this time having insight into its behaviour and stability. Evaluation was done honestly, on distinct train/test subset splits.\n",
      "\n",
      "The final predictor can be serialized to disk, so that the next time we want to use it, we can skip all training and use the trained model directly:"
     ]
    },
    {
     "cell_type": "code",
     "collapsed": false,
     "input": [
      "# store the spam detector to disk after training\n",
      "joblib.dump(svm_detector, 'sms_spam_detector.pkl')\n",
      "# ...and load it back, whenever needed, possibly on a different machine\n",
      "svm_detector_reloaded = joblib.load('sms_spam_detector.pkl')"
     ],
     "language": "python",
     "metadata": {},
     "outputs": [],
     "prompt_number": 145
    },
    {
     "cell_type": "markdown",
     "metadata": {},
     "source": [
      "The loaded result is an object that behaves identically to the original:"
     ]
    },
    {
     "cell_type": "code",
     "collapsed": false,
     "input": [
      "print ('before:', svm_detector.predict([message4])[0])\n",
      "print ('after:', svm_detector_reloaded.predict([message4])[0])"
     ],
     "language": "python",
     "metadata": {},
     "outputs": [
      {
       "output_type": "stream",
       "stream": "stdout",
       "text": [
        "before: ham\n",
        "after: ham\n"
       ]
      }
     ],
     "prompt_number": 144
    },
    {
     "cell_type": "markdown",
     "metadata": {},
     "source": [
      "Another important part of a production implementation is **performance**. After a rapid, iterative model tuning and parameter search as shown here, a well performing model can be translated into a different language and optimized. Would trading a few accuracy points give us a smaller, faster model? Is it worth optimizing memory usage, perhaps using `mmap` to share memory across processes?\n",
      "\n",
      "Note that optimization is not always necessary; always start with actual profiling.\n",
      "\n",
      "Other things to consider here, for a production pipeline, are **robustness** (service failover, redundancy, load balancing), **monitoring** (incl. auto-alerts on anomalies) and **HR fungibility** (avoiding \"knowledge silos\" of how things are done, arcane/lock-in technologies, black art of tuning results). These days, even the open source world can offer viable solutions in all of these areas. All the tool shown today are free for commercial use, under OSI-approved open source licenses."
     ]
    },
    {
     "cell_type": "heading",
     "level": 1,
     "metadata": {},
     "source": [
      "Other practical concepts"
     ]
    },
    {
     "cell_type": "markdown",
     "metadata": {},
     "source": [
      "data sparsity\n",
      "\n",
      "online learning, data streams\n",
      "\n",
      "`mmap` for memory sharing, system \"cold-start\" load times\n",
      "\n",
      "scalability, distributed (cluster) processing"
     ]
    },
    {
     "cell_type": "heading",
     "level": 1,
     "metadata": {},
     "source": [
      "Unsupervised learning"
     ]
    },
    {
     "cell_type": "markdown",
     "metadata": {},
     "source": [
      "Most data *not* structured. Gaining insight, no intrinsic evaluation possible (or else becomes supervised learning!).\n",
      "\n",
      "How can we train *anything* without labels? What kind of sorcery is this?\n",
      "\n",
      "[Distributional hypothesis](http://en.wikipedia.org/wiki/Distributional_semantics): *\"Words that occur in similar contexts tend to have similar meanings\"*. Context = sentence, document, sliding window...\n",
      "\n",
      "Check out this [live demo of Google's word2vec](http://radimrehurek.com/2014/02/word2vec-tutorial/#app) for unsupervised learning. Simple model, large data (Google News, 100 billion words, no labels)."
     ]
    },
    {
     "cell_type": "heading",
     "level": 1,
     "metadata": {},
     "source": [
      "Where next?"
     ]
    },
    {
     "cell_type": "markdown",
     "metadata": {},
     "source": [
      "A static (non-interactive version) of this notebook rendered into HTML at [http://radimrehurek.com/data_science_python](http://radimrehurek.com/data_science_python) (you're probably watching it right now, but just in case).\n",
      "\n",
      "Interactive notebook source at [http://radimrehurek.com/data_science_python/data_science_python.ipynb](http://radimrehurek.com/data_science_python/data_science_python.ipynb) (see above for installation instructions).\n",
      "\n",
      "My company lives in the exciting intersection of **pragmatic, commercial system building** and **research**. Interested in interning / collaboration? [Get in touch](http://radimrehurek.com/)."
     ]
    }
   ],
   "metadata": {}
  }
 ]
}